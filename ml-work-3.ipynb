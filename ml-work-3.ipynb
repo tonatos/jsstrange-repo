{
 "cells": [
  {
   "cell_type": "code",
   "execution_count": 304,
   "metadata": {},
   "outputs": [],
   "source": [
    "import numpy as np\n",
    "import matplotlib.pyplot as plt\n",
    "\n",
    "from sklearn.model_selection import train_test_split\n",
    "from sklearn.metrics import classification_report, roc_auc_score\n",
    "from sklearn.naive_bayes import BernoulliNB, MultinomialNB\n",
    "from sklearn.feature_extraction.text import CountVectorizer\n",
    "from sklearn.feature_extraction.text import TfidfVectorizer\n",
    "\n",
    "import re\n",
    "import functools\n",
    "import nltk\n",
    "from nltk.corpus import stopwords\n",
    "\n",
    "import pymorphy2\n",
    "morph = pymorphy2.MorphAnalyzer()\n",
    "\n",
    "def clear_string(word):\n",
    "    return re.sub(r'[^\\w\\s]', '', word)\n",
    "\n",
    "def string_to_trigramm(string):\n",
    "    for item in string.split():\n",
    "        for i in range(len(item)-2):\n",
    "            yield item[i:i+3]\n",
    "\n",
    "def map_to_normal_form(string):\n",
    "    for item in string.split():\n",
    "        yield morph.parse(item)[0].normal_form\n",
    "        \n",
    "def map_to_POS(string):\n",
    "    for item in string.split():\n",
    "        yield morph.parse(item)[0].tag.POS\n",
    "        \n",
    "def convert_to_array(dataset):\n",
    "    new_arr = None\n",
    "    for r in dataset:\n",
    "        row = []\n",
    "        for column in r:\n",
    "            row.append(column if '|S' not in str(column.dtype) else column.decode('UTF-8'))\n",
    "            \n",
    "        if new_arr is not None:\n",
    "            new_arr = np.vstack((new_arr, row))\n",
    "        else:\n",
    "            new_arr = np.array([row])\n",
    "    return new_arr"
   ]
  },
  {
   "cell_type": "code",
   "execution_count": 194,
   "metadata": {},
   "outputs": [],
   "source": [
    "def get_data(filename, dtypes=[('id','i8'),('text','|S10000'),('label','i8')]):\n",
    "    return np.genfromtxt(\n",
    "        filename, delimiter=',', skip_header=1, \n",
    "        dtype=dtypes, names=[i[0] for i in dtypes], comments=False)\n",
    "\n",
    "train_dataset = get_data('./dataset-3/train.csv')\n",
    "test_dataset = get_data('./dataset-3/test_without_labels.csv', dtypes=[('id','i8'),('text','|S10000')])"
   ]
  },
  {
   "cell_type": "code",
   "execution_count": 346,
   "metadata": {},
   "outputs": [],
   "source": [
    "# приводим к массиву, так, чтобы удобнее работать было\n",
    "train_dataset_as_array = \n",
    "convert_to_array(train_dataset)\n",
    "test_dataset_as_array = convert_to_array(test_dataset)"
   ]
  },
  {
   "cell_type": "code",
   "execution_count": 347,
   "metadata": {},
   "outputs": [],
   "source": [
    "# чистим от мусора\n",
    "vfunc = np.vectorize(lambda x: clear_string(x))\n",
    "train_dataset_as_array[:,1] = vfunc(train_dataset_as_array[:,1])"
   ]
  },
  {
   "cell_type": "code",
   "execution_count": 348,
   "metadata": {},
   "outputs": [],
   "source": [
    "# чистим от всяких предлогов и односложных букв\n",
    "sw = stopwords.words(\"russian\")\n",
    "vfunc = np.vectorize(lambda x: ' '.join([word for word in x.split() if word not in sw]))\n",
    "train_dataset_as_array[:,1] = vfunc(train_dataset_as_array[:,1])"
   ]
  },
  {
   "cell_type": "code",
   "execution_count": 349,
   "metadata": {},
   "outputs": [],
   "source": [
    "# приводим к нормальной форме\n",
    "vfunc = np.vectorize(lambda x: ' '.join([nr for nr in map_to_normal_form(x)]))\n",
    "train_dataset_as_array[:,1] = vfunc(train_dataset_as_array[:,1])"
   ]
  },
  {
   "cell_type": "code",
   "execution_count": 352,
   "metadata": {},
   "outputs": [
    {
     "name": "stdout",
     "output_type": "stream",
     "text": [
      "[ 'целовать стена закачаться проплывать буй жаркое объятие стон небо маленький счастие на душа слеза я уйти утро скрипнуть кровать промелькнуть чудо ты остаться спать любовь течь полезвнож возможно бритва любить кураж закон люба любовный битва там весь правило искусство фронт сходиться несмело свой проверять чувство а доверять тело ну тот'\n",
      " 'рываета мы свой мир исходить слово бенуа сделать вывод исследовать чужой незнакомый мир художник делать свой терентiть конечно настоящий мастер расширять мир дополнять вскрывать отождествляться так вживаться передать состояние пространство настроение точно возможность объективно вопрос терентiть да зад'\n",
      " 'ся оправдать ир или позвонить работа сказать поехать нотариус довнести картошка почистить ир повозмущаться сдаться весь равно вылечить произнести негромко он повесить трубка быстро собраться по дорога перебирать карман купюра вспомнить пумка фотографировать егор весной начало май быть холодный у должный сохраниться фотография'\n",
      " ...,\n",
      " 'ать вместе себя уговорить побег два товарищ зачинщик отдать армия откуп свой деревня служить напрашиваться на утро казарма новобранец вбить столб повешенный болтаться трое бывший доброволец большой попытка побег приближаться день испытание остаться пятьдесят сильно измотать будущий пограничник усиленно готовиться столь ответство'\n",
      " 'завывание стенание ритмично покачиваться сторона сторона женщина несколько мужчина укутать тело покойный рогожа который оно лежалый плотно спеленать обвязать напоследок крутить лыко верёвка затем свёртка разместить подготовить обласа лодка взять рука шестеро мужчина понести вон посёлок весь единый двинуться они впереди процессия охотник лодка за они шест'\n",
      " 'росало пот от напряжение глаз лопнуть капилляр грусть сжать сердце слеза хлынуть воспалить глаз мать испуг подбежать стол схватить приготовить заранее горсть успокоительный таблетка стакан вода выпить выпить стать лёгкий твердить положить таблетка рота заливать вода лука непонимающий смотреть мать красный глаз как как повторять задыхаться том']\n"
     ]
    }
   ],
   "source": [
    "print(train_dataset_as_array[:,1])"
   ]
  },
  {
   "cell_type": "code",
   "execution_count": 353,
   "metadata": {},
   "outputs": [],
   "source": [
    "# делаем триграммы\n",
    "vfunc = np.vectorize(lambda x: ' '.join([nr for nr in string_to_trigramm(x)]))\n",
    "ngrams = np.array([vfunc(train_dataset_as_array[:,1])])"
   ]
  },
  {
   "cell_type": "code",
   "execution_count": 354,
   "metadata": {},
   "outputs": [
    {
     "name": "stdout",
     "output_type": "stream",
     "text": [
      "[[ 'цел ело лов ова ват ать сте тен ена зак ака кач ача чат ать тьс ься про роп опл плы лыв ыва ват ать буй жар арк рко кое объ бъя ъят яти тие сто тон неб ебо мал але лен ень ньк ьки кий сча час аст сти тие душ уша сле лез еза уйт йти утр тро скр кри рип ипн пну нут уть кро ров ова ват ать про ром оме мел ель льк ькн кну нут уть чуд удо ост ста тат ать тьс ься спа пат ать люб юбо бов овь теч ечь пол оле лез езв звн вно нож воз озм змо мож ожн жно бри рит итв тва люб юби бит ить кур ура раж зак ако кон люб юба люб юбо бов овн вны ный бит итв тва там вес есь пра рав ави вил ило иск ску кус усс сст ств тво фро рон онт схо ход оди дит ить тьс ься нес есм сме мел ело сво вой про ров ове вер еря рят ять чув увс вст ств тво дов ове вер еря рят ять тел ело тот'\n",
      "  'рыв ыва вае ает ета сво вой мир исх схо ход оди дит ить сло лов ово бен ену нуа сде дел ела лат ать выв ыво вод исс ссл сле лед едо дов ова ват ать чуж ужо жой нез езн зна нак ако ком омы мый мир худ удо дож ожн жни ник дел ела лат ать сво вой тер ере рен ент нтi тiт iть кон оне неч ечн чно нас аст сто тоя оящ ящи щий мас аст сте тер рас асш сши шир иря рят ять мир доп опо пол олн лня нят ять вск скр кры рыв ыва ват ать ото тож ожд жде дес ест ств твл вля лят ять тьс ься так вжи жив ива ват ать тьс ься пер ере ред еда дат ать сос ост сто тоя оян яни ние про рос ост стр тра ран анс нст ств тво нас аст стр тро рое оен ени ние точ очн чно воз озм змо мож ожн жно нос ост сть объ бъе ъек ект кти тив ивн вно воп опр про рос тер ере рен ент нтi тiт iть зад'\n",
      "  'опр пра рав авд вда дат ать или поз озв зво вон они нит ить раб або бот ота ска каз аза зат ать пое оех еха хат ать нот ота тар ари риу иус дов овн вне нес ест сти кар арт рто тош ошк шка поч очи чис ист сти тит ить пов ово воз озм зму мущ уща щат ать тьс ься сда дат ать тьс ься вес есь рав авн вно выл ыле леч ечи чит ить про рои оиз изн зне нес ест сти нег егр гро ром омк мко пов ове вес еси сит ить тру руб убк бка быс ыст стр тро соб обр бра рат ать тьс ься дор оро рог ога пер ере реб еби бир ира рат ать кар арм рма ман куп упю пюр юра всп спо пом омн мни нит ить пум умк мка фот ото тог огр гра раф афи фир иро ров ова ват ать его гор вес есн сно ной нач ача чал ало май быт ыть хол оло лод одн дны ный дол олж лжн жны ный сох охр хра ран ани нит ить тьс ься фот ото тог огр гра раф афи фия'\n",
      "  ...,\n",
      "  'ать вме мес ест сте себ ебя уго гов ово вор ори рит ить поб обе бег два тов ова вар ари рищ зач ачи чин инщ нщи щик отд тда дат ать арм рми мия отк тку куп сво вой дер ере рев евн вня слу луж ужи жит ить нап апр пра раш аши шив ива ват ать тьс ься утр тро каз аза зар арм рма нов ово воб обр бра ран ане нец вби бит ить сто тол олб пов ове веш еше шен енн нны ный бол олт лта тат ать тьс ься тро рое быв ывш вши ший доб обр бро ров ово вол оле лец бол оль льш ьшо шой поп опы пыт ытк тка поб обе бег при риб ибл бли лиж ижа жат ать тьс ься ден ень исп спы пыт ыта тан ани ние ост ста тат ать тьс ься пят ять тьд ьде дес еся сят сил иль льн ьно изм змо мот ота тат ать буд уду дущ ущи щий пог огр гра ран ани нич ичн чни ник уси сил иле лен енн нно гот ото тов ови вит ить тьс ься сто тол оль отв тве вет етс тст ств тво'\n",
      "  'зав авы выв ыва ван ани ние сте тен ена нан ани ние рит итм тми мич ичн чно пок ока кач ачи чив ива ват ать тьс ься сто тор оро рон она сто тор оро рон она жен енщ нщи щин ина нес еск ско кол оль льк ько муж ужч жчи чин ина уку кут ута тат ать тел ело пок око кой ойн йны ный рог ого гож ожа кот ото тор оры рый оно леж ежа жал алы лый пло лот отн тно спе пел еле лен ена нат ать обв бвя вяз яза зат ать нап апо пос осл сле лед едо док кру рут ути тит ить лык ыко вер ерё рёв ёвк вка зат ате тем свё вёр ёрт ртк тка раз азм зме мес ест сти тит ить под одг дго гот ото тов ови вит ить обл бла лас аса лод одк дка взя зят ять рук ука шес ест сте тер еро муж ужч жчи чин ина пон оне нес ест сти вон пос осё сёл ёло лок вес есь еди дин ины ный дви вин ину нут уть тьс ься они впе пер ере ред еди про роц оце цес есс сси сия охо хот отн тни ник лод одк дка они шес ест'\n",
      "  'рос оса сал ало пот нап апр пря ряж яже жен ени ние гла лаз лоп опн пну нут уть кап апи пил илл лля ляр гру рус уст сть сжа жат ать сер ерд рдц дце сле лез еза хлы лын ыну нут уть вос осп спа пал али лит ить гла лаз мат ать исп спу пуг под одб дбе беж ежа жат ать сто тол схв хва ват ати тит ить при риг иго гот ото тов ови вит ить зар ара ран ане нее гор орс рст сть усп спо пок око кои оит ите тел ель льн ьны ный таб абл бле лет етк тка ста так ака кан вод ода вып ыпи пит ить вып ыпи пит ить ста тат ать лёг ёгк гки кий тве вер ерд рди дит ить пол оло лож ожи жит ить таб абл бле лет етк тка рот ота зал али лив ива ват ать вод ода лук ука неп епо пон они ним има маю ающ ющи щий смо мот отр тре рет еть мат ать кра рас асн сны ный гла лаз как как пов овт вто тор оря рят ять зад ады дых ыха хат ать тьс ься том']]\n"
     ]
    }
   ],
   "source": [
    "print(ngrams)\n",
    "#print(train_dataset_as_array[:,1])\n",
    "#print(train_dataset_as_array[:,1].shape)\n",
    "#print(train_dataset['label'].shape)"
   ]
  },
  {
   "cell_type": "code",
   "execution_count": 380,
   "metadata": {},
   "outputs": [],
   "source": [
    "tfidf_vectorizer = TfidfVectorizer()\n",
    "X_tfidf = tfidf_vectorizer.fit_transform(train_dataset_as_array[:,1])\n",
    "\n",
    "X_train, X_test, Y_train, Y_test = train_test_split(X_tfidf, train_dataset['label'], test_size=0.5, random_state=17)"
   ]
  },
  {
   "cell_type": "code",
   "execution_count": 366,
   "metadata": {},
   "outputs": [
    {
     "name": "stdout",
     "output_type": "stream",
     "text": [
      "(6972, 48246)\n"
     ]
    }
   ],
   "source": [
    "print(X_test.shape)"
   ]
  },
  {
   "cell_type": "code",
   "execution_count": 381,
   "metadata": {},
   "outputs": [
    {
     "name": "stdout",
     "output_type": "stream",
     "text": [
      "roc_auc 0.4562028311\n",
      "             precision    recall  f1-score   support\n",
      "\n",
      "          0       0.90      1.00      0.95      6298\n",
      "          1       0.00      0.00      0.00       674\n",
      "\n",
      "avg / total       0.82      0.90      0.86      6972\n",
      "\n"
     ]
    },
    {
     "name": "stderr",
     "output_type": "stream",
     "text": [
      "/Users/vitaly/.virtualenvs/ml-env/lib/python3.6/site-packages/sklearn/metrics/classification.py:1135: UndefinedMetricWarning: Precision and F-score are ill-defined and being set to 0.0 in labels with no predicted samples.\n",
      "  'precision', 'predicted', average, warn_for)\n"
     ]
    }
   ],
   "source": [
    "# байес по тестовой выборке\n",
    "clf_bnb = BernoulliNB()\n",
    "clf_bnb.fit(X_train, Y_train)\n",
    "Y_pred = clf_bnb.predict(X_test)\n",
    "Y_pred_proba = clf_bnb.predict_proba(X_test)\n",
    "print('roc_auc', roc_auc_score(y_true=Y_test, y_score=Y_pred_proba[:,1]))\n",
    "print(classification_report(y_true=Y_test, y_pred=Y_pred))"
   ]
  },
  {
   "cell_type": "code",
   "execution_count": 555,
   "metadata": {},
   "outputs": [
    {
     "name": "stdout",
     "output_type": "stream",
     "text": [
      "roc_auc 0.919203093383\n",
      "             precision    recall  f1-score   support\n",
      "\n",
      "          0       0.91      1.00      0.95      6316\n",
      "          1       0.00      0.00      0.00       656\n",
      "\n",
      "avg / total       0.82      0.91      0.86      6972\n",
      "\n"
     ]
    },
    {
     "name": "stderr",
     "output_type": "stream",
     "text": [
      "/Users/vitaly/.virtualenvs/ml-env/lib/python3.6/site-packages/sklearn/metrics/classification.py:1135: UndefinedMetricWarning: Precision and F-score are ill-defined and being set to 0.0 in labels with no predicted samples.\n",
      "  'precision', 'predicted', average, warn_for)\n"
     ]
    }
   ],
   "source": [
    "# байес по трэйн выборке\n",
    "clf_bnb = BernoulliNB()\n",
    "clf_bnb.fit(X_tfidf, train_dataset_as_array[:,2])\n",
    "Y_pred = clf_bnb.predict(X_train)\n",
    "Y_pred_proba = clf_bnb.predict_proba(X_train)\n",
    "print('roc_auc', roc_auc_score(y_true=Y_train, y_score=Y_pred_proba[:,1]))\n",
    "print(classification_report(y_true=Y_train, y_pred=Y_pred))    "
   ]
  },
  {
   "cell_type": "code",
   "execution_count": null,
   "metadata": {},
   "outputs": [],
   "source": [
    "print(Y_train)"
   ]
  },
  {
   "cell_type": "code",
   "execution_count": 557,
   "metadata": {},
   "outputs": [
    {
     "name": "stdout",
     "output_type": "stream",
     "text": [
      "(6316,)\n"
     ]
    }
   ],
   "source": [
    "# тут мы выпиливаем всякий хлам, который не смогли предсказать\n",
    "def find_allow(Y_train, Y_pred):\n",
    "    def find_depricated(train, predict):\n",
    "        dep = []\n",
    "        for i in enumerate(train):\n",
    "            if int(i[1]) != predict[i[0]]:\n",
    "                dep.append(i[0])\n",
    "        return dep\n",
    "\n",
    "    dep = np.array( find_depricated(Y_train, Y_pred) )\n",
    "    return np.array(list(filter(lambda x: x[0] not in dep, enumerate(Y_train))))[:,0]\n",
    "    \n",
    "    \n",
    "allow_indexes = find_allow(Y_train, Y_pred)\n",
    "print( allow_indexes.shape )"
   ]
  },
  {
   "cell_type": "code",
   "execution_count": 552,
   "metadata": {},
   "outputs": [
    {
     "name": "stdout",
     "output_type": "stream",
     "text": [
      "roc_auc 0.5\n",
      "             precision    recall  f1-score   support\n",
      "\n",
      "          0       0.90      1.00      0.95      6298\n",
      "          1       0.00      0.00      0.00       674\n",
      "\n",
      "avg / total       0.82      0.90      0.86      6972\n",
      "\n"
     ]
    },
    {
     "name": "stderr",
     "output_type": "stream",
     "text": [
      "/Users/vitaly/.virtualenvs/ml-env/lib/python3.6/site-packages/sklearn/naive_bayes.py:461: RuntimeWarning: divide by zero encountered in log\n",
      "  self.class_log_prior_ = (np.log(self.class_count_) -\n",
      "/Users/vitaly/.virtualenvs/ml-env/lib/python3.6/site-packages/sklearn/metrics/classification.py:1135: UndefinedMetricWarning: Precision and F-score are ill-defined and being set to 0.0 in labels with no predicted samples.\n",
      "  'precision', 'predicted', average, warn_for)\n"
     ]
    }
   ],
   "source": [
    "# байес по тестовой выборке\n",
    "clf_bnb = BernoulliNB()\n",
    "clf_bnb.fit(X_train[allow_indexes,], Y_train[allow_indexes])\n",
    "Y_pred = clf_bnb.predict(X_test)\n",
    "Y_pred_proba = clf_bnb.predict_proba(X_test)\n",
    "print('roc_auc', roc_auc_score(y_true=Y_test, y_score=Y_pred_proba[:,1]))\n",
    "print(classification_report(y_true=Y_test, y_pred=Y_pred))"
   ]
  },
  {
   "cell_type": "code",
   "execution_count": 551,
   "metadata": {},
   "outputs": [
    {
     "name": "stdout",
     "output_type": "stream",
     "text": [
      "пара -3.51471601853\n",
      "голов -3.49888455332\n",
      "палец -3.49888455332\n",
      "меч -3.49366260933\n",
      "вид -3.4832998223\n",
      "словно -3.4781584228\n",
      "помочь -3.4781584228\n",
      "немного -3.4781584228\n",
      "голос -3.46289095067\n",
      "пытаться -3.45785315664\n",
      "минута -3.45785315664\n",
      "подумать -3.45284061481\n",
      "стол -3.45284061481\n",
      "ждать -3.44289028396\n",
      "кто -3.43303798752\n",
      "по -3.42814800222\n",
      "свет -3.42328181257\n",
      "случай -3.4088237294\n",
      "пойти -3.4088237294\n",
      "женщина -3.4088237294\n",
      "затем -3.39929984789\n",
      "хороший -3.38986581565\n",
      "мысль -3.38986581565\n",
      "достать -3.38518196634\n",
      "сидеть -3.38518196634\n",
      "быстро -3.37126062782\n",
      "комната -3.35299527984\n",
      "нет -3.34848059949\n",
      "понимать -3.33505757916\n",
      "сердце -3.33062298209\n",
      "мир -3.32620796388\n",
      "взгляд -3.32620796388\n",
      "ответить -3.31743597781\n",
      "должный -3.31743597781\n",
      "решить -3.31307867244\n",
      "никто -3.3044206097\n",
      "работа -3.3001195278\n",
      "смерть -3.295836866\n",
      "смочь -3.295836866\n",
      "посмотреть -3.295836866\n",
      "сразу -3.29157246722\n",
      "шея -3.28732617634\n",
      "выйти -3.28309784023\n",
      "ряд -3.28309784023\n",
      "какой -3.27888730769\n",
      "земля -3.27469442943\n",
      "оказаться -3.26636104787\n",
      "жить -3.25398975607\n",
      "чтоть -3.24989977082\n",
      "нужно -3.24989977082\n",
      "давать -3.2377292352\n",
      "острый -3.2296970635\n",
      "сила -3.22172889385\n",
      "большой -3.21382371434\n",
      "себя -3.2098944362\n",
      "когда -3.2098944362\n",
      "девушка -3.20598053688\n",
      "последний -3.19819839644\n",
      "снова -3.19047635035\n",
      "если -3.17520887822\n",
      "бритва -3.14903916048\n",
      "вы -3.14535591507\n",
      "боль -3.1343868837\n",
      "друг -3.11280331203\n",
      "остаться -3.09516617054\n",
      "сам -3.08819750123\n",
      "конец -3.08127705838\n",
      "дверь -3.07098537234\n",
      "каждый -3.06418262502\n",
      "дать -3.06418262502\n",
      "понять -3.06079852704\n",
      "лишь -3.05406449486\n",
      "вода -3.05406449486\n",
      "так -3.04737550671\n",
      "увидеть -3.04404771661\n",
      "спросить -3.03742517585\n",
      "вот -3.03742517585\n",
      "найти -3.03413027996\n",
      "начать -3.02757287941\n",
      "кровь -2.98596687858\n",
      "видеть -2.98596687858\n",
      "несколько -2.97971685823\n",
      "твой -2.97350565814\n",
      "думать -2.97041446557\n",
      "слово -2.96733279903\n",
      "место -2.96119781046\n",
      "другой -2.9551002306\n",
      "лицо -2.9551002306\n",
      "вена -2.94903960598\n",
      "ну -2.94001698839\n",
      "нож -2.9340468214\n",
      "тело -2.92811208588\n",
      "пока -2.92221236375\n",
      "дело -2.91927550408\n",
      "они -2.9163472443\n",
      "дом -2.89895550159\n",
      "сторона -2.89895550159\n",
      "делать -2.89608605916\n",
      "смотреть -2.88468992443\n",
      "этот -2.86783559287\n",
      "год -2.85400411373\n",
      "просто -2.83226412709\n",
      "нога -2.82957956172\n",
      "вскрыть -2.81891279391\n",
      "взять -2.80051542877\n",
      "идти -2.79015264174\n",
      "самоубийство -2.76974377011\n",
      "говорить -2.73989080696\n",
      "как -2.73989080696\n",
      "очень -2.73744282532\n",
      "да -2.70615266733\n",
      "ещё -2.69906881244\n",
      "сделать -2.69203478578\n",
      "хотеть -2.66211310592\n",
      "её -2.63969064186\n",
      "два -2.61775993837\n",
      "наш -2.57945738395\n",
      "день -2.56907307465\n",
      "знать -2.53855188561\n",
      "быть -2.52659955209\n",
      "голова -2.51870996481\n",
      "мы -2.51674725564\n",
      "жизнь -2.50505121588\n",
      "что -2.48585676862\n",
      "глаз -2.47451449202\n",
      "на -2.41787835322\n",
      "самый -2.40201898998\n",
      "время -2.39505032067\n",
      "мой -2.32305270868\n",
      "она -2.31021144073\n",
      "тот -2.29753298247\n",
      "не -2.28345925526\n",
      "такой -2.24836793545\n",
      "человек -2.19580108955\n",
      "стать -2.13241899784\n",
      "мочь -2.12576561335\n",
      "сказать -2.11389995008\n",
      "ты -2.08547426358\n",
      "лезвие -2.00005651243\n",
      "но -1.98151600451\n",
      "один -1.85953208431\n",
      "он -1.83246276234\n",
      "повесить -1.79938581696\n",
      "рука -1.79175946923\n",
      "таблетка -1.69843693213\n",
      "который -1.68639895357\n",
      "верёвка -1.65692313544\n",
      "свой -1.65195623781\n",
      "весь -1.64701388837\n",
      "это -1.21960559995\n"
     ]
    }
   ],
   "source": [
    "iverted_vocab = {_id:w for (w,_id) in tfidf_vectorizer.vocabulary_.items()}\n",
    "for _id in clf_bnb.coef_.argsort()[0][-150:]:\n",
    "    print(iverted_vocab[_id], clf_bnb.coef_[0][_id])"
   ]
  },
  {
   "cell_type": "code",
   "execution_count": 361,
   "metadata": {},
   "outputs": [
    {
     "ename": "AttributeError",
     "evalue": "'BernoulliNB' object has no attribute 'feature_importances_'",
     "output_type": "error",
     "traceback": [
      "\u001b[0;31m---------------------------------------------------------------------------\u001b[0m",
      "\u001b[0;31mAttributeError\u001b[0m                            Traceback (most recent call last)",
      "\u001b[0;32m<ipython-input-361-b905adc7adad>\u001b[0m in \u001b[0;36m<module>\u001b[0;34m()\u001b[0m\n\u001b[1;32m      2\u001b[0m \u001b[0;32mimport\u001b[0m \u001b[0mmatplotlib\u001b[0m\u001b[0;34m.\u001b[0m\u001b[0mpyplot\u001b[0m \u001b[0;32mas\u001b[0m \u001b[0mplt\u001b[0m\u001b[0;34m\u001b[0m\u001b[0m\n\u001b[1;32m      3\u001b[0m \u001b[0;34m\u001b[0m\u001b[0m\n\u001b[0;32m----> 4\u001b[0;31m \u001b[0mimportances\u001b[0m \u001b[0;34m=\u001b[0m \u001b[0mclf_bnb\u001b[0m\u001b[0;34m.\u001b[0m\u001b[0mfeature_importances_\u001b[0m\u001b[0;34m\u001b[0m\u001b[0m\n\u001b[0m\u001b[1;32m      5\u001b[0m \u001b[0mindices\u001b[0m \u001b[0;34m=\u001b[0m \u001b[0mnp\u001b[0m\u001b[0;34m.\u001b[0m\u001b[0margsort\u001b[0m\u001b[0;34m(\u001b[0m\u001b[0mimportances\u001b[0m\u001b[0;34m)\u001b[0m\u001b[0;34m[\u001b[0m\u001b[0;34m:\u001b[0m\u001b[0;34m:\u001b[0m\u001b[0;34m-\u001b[0m\u001b[0;36m1\u001b[0m\u001b[0;34m]\u001b[0m\u001b[0;34m\u001b[0m\u001b[0m\n\u001b[1;32m      6\u001b[0m \u001b[0;34m\u001b[0m\u001b[0m\n",
      "\u001b[0;31mAttributeError\u001b[0m: 'BernoulliNB' object has no attribute 'feature_importances_'"
     ]
    }
   ],
   "source": [
    "# визуализируем фичаимпортэнсы\n",
    "import matplotlib.pyplot as plt\n",
    "\n",
    "importances = clf_bnb.feature_importances_\n",
    "indices = np.argsort(importances)[::-1]\n",
    "\n",
    "plt.figure()\n",
    "plt.title(\"Feature importances\")\n",
    "plt.bar(range(X_train.shape[1]), importances[indices], color=\"r\", yerr=std[indices], align=\"center\")\n",
    "plt.xticks(range(X_train.shape[1]), indices)\n",
    "plt.xlim([-1, X_train.shape[1]])\n",
    "plt.show()"
   ]
  },
  {
   "cell_type": "code",
   "execution_count": null,
   "metadata": {},
   "outputs": [],
   "source": []
  }
 ],
 "metadata": {
  "kernelspec": {
   "display_name": "Python 3",
   "language": "python",
   "name": "python3"
  },
  "language_info": {
   "codemirror_mode": {
    "name": "ipython",
    "version": 3
   },
   "file_extension": ".py",
   "mimetype": "text/x-python",
   "name": "python",
   "nbconvert_exporter": "python",
   "pygments_lexer": "ipython3",
   "version": "3.6.1"
  }
 },
 "nbformat": 4,
 "nbformat_minor": 2
}
