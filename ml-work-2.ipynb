{
 "cells": [
  {
   "cell_type": "code",
   "execution_count": 79,
   "metadata": {},
   "outputs": [],
   "source": [
    "import numpy as np\n",
    "import matplotlib.pyplot as plt\n",
    "\n",
    "from sklearn.tree import DecisionTreeClassifier\n",
    "from sklearn.ensemble import RandomForestClassifier, GradientBoostingClassifier\n"
   ]
  },
  {
   "cell_type": "code",
   "execution_count": 4,
   "metadata": {},
   "outputs": [],
   "source": [
    "# загружаем обучающие данные\n",
    "dataset = np.loadtxt('./dataset-2/task_train.csv', delimiter=',', skiprows=1)"
   ]
  },
  {
   "cell_type": "code",
   "execution_count": 24,
   "metadata": {},
   "outputs": [],
   "source": [
    "# загружаем данные для разметки\n",
    "test_dataset = np.loadtxt('./dataset-2/task_test_without_labels.csv', delimiter=',', skiprows=1)[:, 1:201]"
   ]
  },
  {
   "cell_type": "code",
   "execution_count": 12,
   "metadata": {},
   "outputs": [],
   "source": [
    "# разбиваем трэйн выборку на параметры и классы\n",
    "train, labels = dataset[:, 1:201], dataset[:, 202]"
   ]
  },
  {
   "cell_type": "code",
   "execution_count": 135,
   "metadata": {},
   "outputs": [
    {
     "name": "stdout",
     "output_type": "stream",
     "text": [
      "0.8316\n",
      "             precision    recall  f1-score   support\n",
      "\n",
      "        0.0       0.83      0.93      0.88      5147\n",
      "        1.0       0.94      0.97      0.96      5872\n",
      "        2.0       0.79      0.86      0.82      5238\n",
      "        3.0       0.76      0.82      0.79      5431\n",
      "        4.0       0.78      0.82      0.80      5155\n",
      "        5.0       0.80      0.74      0.77      4808\n",
      "        6.0       0.90      0.87      0.89      5092\n",
      "        7.0       0.88      0.85      0.86      5536\n",
      "        8.0       0.82      0.69      0.75      5041\n",
      "        9.0       0.80      0.73      0.76      5180\n",
      "\n",
      "avg / total       0.83      0.83      0.83     52500\n",
      "\n"
     ]
    }
   ],
   "source": [
    "# строим обучающую модель на трэйн данных, разбитых пополам\n",
    "\n",
    "from sklearn.metrics import accuracy_score, roc_auc_score, classification_report\n",
    "from sklearn.model_selection import train_test_split\n",
    "\n",
    "X_train, X_holdout, y_train, y_holdout = train_test_split(train, labels, test_size=0.5,\n",
    "random_state=17)\n",
    "\n",
    "# моделька\n",
    "model = RandomForestClassifier()\n",
    "model.fit(X_train, y_train)\n",
    "\n",
    "pred = model.predict(X_holdout)\n",
    "\n",
    "#print(roc_auc_score(y_holdout, pred))\n",
    "print(accuracy_score(y_holdout, pred))\n",
    "print(classification_report(y_holdout, pred))"
   ]
  },
  {
   "cell_type": "code",
   "execution_count": 136,
   "metadata": {
    "scrolled": true
   },
   "outputs": [
    {
     "name": "stdout",
     "output_type": "stream",
     "text": [
      "[162, 70, 141, 189, 137, 15, 128, 112, 66, 82, 19, 67, 153, 138, 191, 46, 172, 118, 76, 81, 155, 160, 43, 116, 154, 24, 161, 0, 49, 149, 185, 87, 38, 51, 117, 167, 53, 165, 75, 126, 89, 31, 163, 2, 177, 124, 61, 98, 97, 192, 156] 51\n"
     ]
    }
   ],
   "source": [
    "# тут путаемся выкинуть ненужные параметры\n",
    "\n",
    "import_indexes = []\n",
    "\n",
    "for i in model.feature_importances_.argsort():\n",
    "    if model.feature_importances_[i] > 0.005:\n",
    "        import_indexes.append(i)\n",
    "\n",
    "#print(np.sort(model.feature_importances_))\n",
    "print(import_indexes, len(import_indexes))\n",
    "#import_indexes = model.feature_importances_.argsort()[-50:]"
   ]
  },
  {
   "cell_type": "code",
   "execution_count": 149,
   "metadata": {},
   "outputs": [
    {
     "name": "stderr",
     "output_type": "stream",
     "text": [
      "[Parallel(n_jobs=1)]: Done  50 out of  50 | elapsed:   30.9s finished\n"
     ]
    },
    {
     "name": "stdout",
     "output_type": "stream",
     "text": [
      "0.940038095238\n",
      "             precision    recall  f1-score   support\n",
      "\n",
      "        0.0       0.95      0.97      0.96      5147\n",
      "        1.0       0.97      0.98      0.98      5872\n",
      "        2.0       0.93      0.94      0.94      5238\n",
      "        3.0       0.92      0.93      0.92      5431\n",
      "        4.0       0.94      0.94      0.94      5155\n",
      "        5.0       0.94      0.93      0.94      4808\n",
      "        6.0       0.95      0.97      0.96      5092\n",
      "        7.0       0.94      0.94      0.94      5536\n",
      "        8.0       0.94      0.89      0.91      5041\n",
      "        9.0       0.91      0.91      0.91      5180\n",
      "\n",
      "avg / total       0.94      0.94      0.94     52500\n",
      "\n"
     ]
    },
    {
     "name": "stderr",
     "output_type": "stream",
     "text": [
      "[Parallel(n_jobs=1)]: Done  50 out of  50 | elapsed:    0.8s finished\n"
     ]
    }
   ],
   "source": [
    "from sklearn.metrics import accuracy_score, roc_auc_score, classification_report\n",
    "from sklearn.model_selection import train_test_split\n",
    "\n",
    "X_train, X_holdout, y_train, y_holdout = train_test_split(train[:,import_indexes], labels, test_size=0.5,\n",
    "random_state=17)\n",
    "\n",
    "\n",
    "model = RandomForestClassifier(verbose=True, max_depth=30, n_estimators=50)\n",
    "model.fit(X_train, y_train)\n",
    "\n",
    "pred = model.predict(X_holdout)\n",
    "\n",
    "print(accuracy_score(y_holdout, pred))\n",
    "print(classification_report(y_holdout, pred))"
   ]
  },
  {
   "cell_type": "code",
   "execution_count": 156,
   "metadata": {},
   "outputs": [
    {
     "name": "stdout",
     "output_type": "stream",
     "text": [
      "[ 0.00617165  0.00653585  0.00684912  0.00707826  0.00676527  0.00712966\n",
      "  0.0065365   0.00692426  0.00765431  0.00696049  0.00832466  0.00848102\n",
      "  0.00733627  0.00770979  0.00908956  0.00989678  0.00941966  0.01081711\n",
      "  0.00821387  0.0091136   0.00869253  0.01019542  0.01178597  0.01141258\n",
      "  0.01083573  0.01199133  0.01008615  0.01158019  0.01023589  0.01116631\n",
      "  0.01471788  0.01384905  0.01676319  0.01801999  0.01632414  0.01973093\n",
      "  0.01819193  0.01913627  0.0203242   0.02837153  0.0218806   0.02518561\n",
      "  0.02768093  0.02996665  0.03433114  0.04799877  0.04626405  0.0600174\n",
      "  0.06392261  0.09098606  0.10134728]\n"
     ]
    }
   ],
   "source": [
    "print(model.feature_importances_)"
   ]
  },
  {
   "cell_type": "code",
   "execution_count": 158,
   "metadata": {},
   "outputs": [
    {
     "name": "stdout",
     "output_type": "stream",
     "text": [
      "      Iter       Train Loss      OOB Improve   Remaining Time \n",
      "         1      118942.2709        1894.6299          194.65m\n",
      "         2      117146.9647        1792.1121          196.55m\n",
      "         3      115460.9911        1679.1492          196.89m\n",
      "         4      113861.6352        1597.2360          200.85m\n",
      "         5      112290.4623        1511.8431          201.96m\n",
      "         6      110841.0102        1450.6165          203.44m\n",
      "         7      109465.6805        1374.5437          204.04m\n",
      "         8      108167.8105        1320.6887          203.45m\n",
      "         9      106873.0940        1261.8050          201.33m\n",
      "        10      105697.3153        1209.7452          199.57m\n",
      "        20       95487.0476         864.0527          195.00m\n",
      "        30       87899.3372         674.7228          196.94m\n",
      "        40       81654.1551         541.6825          193.26m\n",
      "        50       76827.7127         455.4994          188.99m\n",
      "        60       72452.4933         402.4775          187.43m\n",
      "        70       68755.9346         342.8797          189.41m\n",
      "        80       65582.6471         296.3826          190.93m\n",
      "        90       62684.1685         265.0972          189.79m\n",
      "       100       59817.1502         241.3362          187.43m\n",
      "       200       43581.5649         117.3738          174.69m\n",
      "       300       34655.5359          60.5374          153.14m\n",
      "       400       29393.0386          33.8556          133.90m\n",
      "       500       25639.8033          24.8392          116.10m\n",
      "       600       23505.1684          21.9410          101.40m\n",
      "       700       21065.3229          15.9597           83.33m\n",
      "       800       19474.1814          11.5117           65.89m\n",
      "       900       18399.2515          10.4932           48.66m\n",
      "      1000       17428.4702           5.5898           31.85m\n"
     ]
    }
   ],
   "source": [
    "params = {'n_estimators': 1200, 'max_depth': 3, 'subsample': 0.5,\n",
    "          'learning_rate': 0.01, 'min_samples_leaf': 1, 'random_state': 3, 'verbose': True}\n",
    "final_model = GradientBoostingClassifier(**params)\n",
    "\n",
    "#final_model = GradientBoostingClassifier(verbose=True, max_depth=3, )\n",
    "#final_model = RandomForestClassifier(verbose=True, max_depth=30, n_estimators=50)\n",
    "final_model.fit(train[:,import_indexes], labels)\n",
    "\n",
    "final_predict = final_model.predict(test_dataset[:,import_indexes])\n"
   ]
  },
  {
   "cell_type": "code",
   "execution_count": 159,
   "metadata": {},
   "outputs": [
    {
     "name": "stdout",
     "output_type": "stream",
     "text": [
      "[ 6.  6.  6. ...,  5.  6.  5.]\n"
     ]
    }
   ],
   "source": [
    "print(final_predict)"
   ]
  },
  {
   "cell_type": "code",
   "execution_count": 160,
   "metadata": {},
   "outputs": [],
   "source": [
    "id_column = raw_dataset[:,0].reshape(len(raw_dataset), 1)\n",
    "\n",
    "result = np.hstack((id_column, final_predict.reshape(len(final_predict), 1)))\n",
    "np.savetxt('./dataset-2/result.csv', result, delimiter=',', fmt='%u,%u', comments='', header='id,label')"
   ]
  },
  {
   "cell_type": "code",
   "execution_count": null,
   "metadata": {},
   "outputs": [],
   "source": []
  }
 ],
 "metadata": {
  "kernelspec": {
   "display_name": "Python 3",
   "language": "python",
   "name": "python3"
  },
  "language_info": {
   "codemirror_mode": {
    "name": "ipython",
    "version": 3
   },
   "file_extension": ".py",
   "mimetype": "text/x-python",
   "name": "python",
   "nbconvert_exporter": "python",
   "pygments_lexer": "ipython3",
   "version": "3.6.1"
  }
 },
 "nbformat": 4,
 "nbformat_minor": 2
}
